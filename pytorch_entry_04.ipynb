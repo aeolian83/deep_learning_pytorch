{
 "cells": [
  {
   "cell_type": "markdown",
   "metadata": {},
   "source": [
    "# 파이토치 입문\n",
    "\n",
    "## 3. 합성곱 신경망\n",
    "\n",
    "### (1) 합성곱 연산과 풀링 연산"
   ]
  },
  {
   "cell_type": "markdown",
   "metadata": {},
   "source": [
    "#### 1) 합성곱 연산"
   ]
  },
  {
   "cell_type": "code",
   "execution_count": 1,
   "metadata": {},
   "outputs": [],
   "source": [
    "import torch\n",
    "from torch import nn\n"
   ]
  },
  {
   "cell_type": "code",
   "execution_count": 2,
   "metadata": {},
   "outputs": [
    {
     "data": {
      "text/plain": [
       "<function torch._VariableFunctionsClass.conv2d>"
      ]
     },
     "execution_count": 2,
     "metadata": {},
     "output_type": "execute_result"
    }
   ],
   "source": [
    "nn.Conv2d\n",
    "torch.nn.functional.conv2d\n"
   ]
  },
  {
   "cell_type": "markdown",
   "metadata": {},
   "source": [
    "#### 2) 풀링 연산"
   ]
  },
  {
   "cell_type": "code",
   "execution_count": 3,
   "metadata": {},
   "outputs": [
    {
     "data": {
      "text/plain": [
       "<module 'torch.nn.functional' from '/home/aeolian83/anaconda3/envs/torch_for_p397/lib/python3.9/site-packages/torch/nn/functional.py'>"
      ]
     },
     "execution_count": 3,
     "metadata": {},
     "output_type": "execute_result"
    }
   ],
   "source": [
    "nn.AvgPool2d\n",
    "torch.nn.functional.avg_pool2d\n",
    "nn.MaxPool2d\n",
    "torch.nn.functional"
   ]
  },
  {
   "cell_type": "markdown",
   "metadata": {},
   "source": [
    "### (2) AlexNet"
   ]
  },
  {
   "cell_type": "code",
   "execution_count": 4,
   "metadata": {},
   "outputs": [],
   "source": [
    "# 라이브러리 불러오기\n",
    "import torch\n",
    "import torchvision\n",
    "import torchvision.transforms as transforms\n",
    "from torch.utils.data import DataLoader\n",
    "import torch.nn as nn\n",
    "import torch.nn.functional as F\n",
    "import torch.optim as optim\n",
    "import matplotlib.pyplot as plt"
   ]
  },
  {
   "cell_type": "code",
   "execution_count": 5,
   "metadata": {},
   "outputs": [
    {
     "name": "stdout",
     "output_type": "stream",
     "text": [
      "Files already downloaded and verified\n",
      "Files already downloaded and verified\n"
     ]
    }
   ],
   "source": [
    "# CIFAR10 Dataset 불러오기\n",
    "transform = transforms.Compose([transforms.ToTensor(), transforms.Normalize((0.5, 0.5, 0.5), (0.5, 0.5, 0.5))])\n",
    "\n",
    "# trainset pipeline\n",
    "trainset = torchvision.datasets.CIFAR10('./data', train = True, download = True, transform = transform)\n",
    "trainloader = DataLoader(trainset, batch_size = 32, shuffle = True)\n",
    "\n",
    "# testset pipeline\n",
    "testset = torchvision.datasets.CIFAR10('./data', train = False, download = True, transform = transform)\n",
    "testloader = DataLoader(testset, batch_size = 32, shuffle = False)"
   ]
  },
  {
   "cell_type": "code",
   "execution_count": 10,
   "metadata": {},
   "outputs": [
    {
     "name": "stdout",
     "output_type": "stream",
     "text": [
      "cuda is available.\n"
     ]
    }
   ],
   "source": [
    "# GPU Check\n",
    "device = torch.device(\"cuda\" if torch.cuda.is_available() else \"cpu\")\n",
    "print(f'{device} is available.')"
   ]
  },
  {
   "cell_type": "code",
   "execution_count": 15,
   "metadata": {},
   "outputs": [],
   "source": [
    "# Build AlexNet\n",
    "\n",
    "class AlexNet(nn.Module):\n",
    "    def __init__(self):\n",
    "        super(AlexNet, self).__init__()\n",
    "        self.features = nn.Sequential(\n",
    "            nn.Conv2d(3, 64, 3), nn.ReLU(),\n",
    "            nn.MaxPool2d(2, 2),\n",
    "            nn.Conv2d(64, 192, 3, padding=1), nn.ReLU(),\n",
    "            nn.MaxPool2d(2, 2),\n",
    "            nn.Conv2d(192, 384, 3, padding=1), nn.ReLU(),\n",
    "            nn.Conv2d(384, 256, 3, padding=1), nn.ReLU(),\n",
    "            nn.Conv2d(256, 256, 1), nn.ReLU(),\n",
    "            nn.MaxPool2d(2, 2)\n",
    "        )\n",
    "\n",
    "        self.classifier = nn.Sequential(\n",
    "            nn.Dropout(0.5),\n",
    "            nn.Linear(256*3*3, 1024), nn.ReLU(),\n",
    "            nn.Dropout(0.5),\n",
    "            nn.Linear(1024, 512), nn.ReLU(),\n",
    "            nn.Linear(512, 10)\n",
    "        )\n",
    "\n",
    "    def forward(self, x):\n",
    "        x = self.features(x)\n",
    "        x = x.view(-1, 256*3*3)\n",
    "        x = self.classifier(x)\n",
    "\n",
    "        return x"
   ]
  },
  {
   "cell_type": "code",
   "execution_count": 19,
   "metadata": {},
   "outputs": [
    {
     "name": "stdout",
     "output_type": "stream",
     "text": [
      "AlexNet(\n",
      "  (features): Sequential(\n",
      "    (0): Conv2d(3, 64, kernel_size=(3, 3), stride=(1, 1))\n",
      "    (1): ReLU()\n",
      "    (2): MaxPool2d(kernel_size=2, stride=2, padding=0, dilation=1, ceil_mode=False)\n",
      "    (3): Conv2d(64, 192, kernel_size=(3, 3), stride=(1, 1), padding=(1, 1))\n",
      "    (4): ReLU()\n",
      "    (5): MaxPool2d(kernel_size=2, stride=2, padding=0, dilation=1, ceil_mode=False)\n",
      "    (6): Conv2d(192, 384, kernel_size=(3, 3), stride=(1, 1), padding=(1, 1))\n",
      "    (7): ReLU()\n",
      "    (8): Conv2d(384, 256, kernel_size=(3, 3), stride=(1, 1), padding=(1, 1))\n",
      "    (9): ReLU()\n",
      "    (10): Conv2d(256, 256, kernel_size=(1, 1), stride=(1, 1))\n",
      "    (11): ReLU()\n",
      "    (12): MaxPool2d(kernel_size=2, stride=2, padding=0, dilation=1, ceil_mode=False)\n",
      "  )\n",
      "  (classifier): Sequential(\n",
      "    (0): Dropout(p=0.5, inplace=False)\n",
      "    (1): Linear(in_features=2304, out_features=1024, bias=True)\n",
      "    (2): ReLU()\n",
      "    (3): Dropout(p=0.5, inplace=False)\n",
      "    (4): Linear(in_features=1024, out_features=512, bias=True)\n",
      "    (5): ReLU()\n",
      "    (6): Linear(in_features=512, out_features=10, bias=True)\n",
      "  )\n",
      ")\n"
     ]
    }
   ],
   "source": [
    "from torchsummary import summary\n",
    "\n",
    "model = AlexNet()\n",
    "model.to(device)\n",
    "print(model)"
   ]
  },
  {
   "cell_type": "code",
   "execution_count": 21,
   "metadata": {},
   "outputs": [
    {
     "name": "stdout",
     "output_type": "stream",
     "text": [
      "----------------------------------------------------------------\n",
      "        Layer (type)               Output Shape         Param #\n",
      "================================================================\n",
      "            Conv2d-1           [-1, 64, 30, 30]           1,792\n",
      "              ReLU-2           [-1, 64, 30, 30]               0\n",
      "         MaxPool2d-3           [-1, 64, 15, 15]               0\n",
      "            Conv2d-4          [-1, 192, 15, 15]         110,784\n",
      "              ReLU-5          [-1, 192, 15, 15]               0\n",
      "         MaxPool2d-6            [-1, 192, 7, 7]               0\n",
      "            Conv2d-7            [-1, 384, 7, 7]         663,936\n",
      "              ReLU-8            [-1, 384, 7, 7]               0\n",
      "            Conv2d-9            [-1, 256, 7, 7]         884,992\n",
      "             ReLU-10            [-1, 256, 7, 7]               0\n",
      "           Conv2d-11            [-1, 256, 7, 7]          65,792\n",
      "             ReLU-12            [-1, 256, 7, 7]               0\n",
      "        MaxPool2d-13            [-1, 256, 3, 3]               0\n",
      "          Dropout-14                 [-1, 2304]               0\n",
      "           Linear-15                 [-1, 1024]       2,360,320\n",
      "             ReLU-16                 [-1, 1024]               0\n",
      "          Dropout-17                 [-1, 1024]               0\n",
      "           Linear-18                  [-1, 512]         524,800\n",
      "             ReLU-19                  [-1, 512]               0\n",
      "           Linear-20                   [-1, 10]           5,130\n",
      "================================================================\n",
      "Total params: 4,617,546\n",
      "Trainable params: 4,617,546\n",
      "Non-trainable params: 0\n",
      "----------------------------------------------------------------\n",
      "Input size (MB): 0.01\n",
      "Forward/backward pass size (MB): 2.46\n",
      "Params size (MB): 17.61\n",
      "Estimated Total Size (MB): 20.08\n",
      "----------------------------------------------------------------\n"
     ]
    }
   ],
   "source": [
    "summary(model, (3, 32, 32))"
   ]
  },
  {
   "cell_type": "code",
   "execution_count": 22,
   "metadata": {},
   "outputs": [],
   "source": [
    "del model"
   ]
  },
  {
   "cell_type": "markdown",
   "metadata": {},
   "source": [
    "#### 1) adam optimizer로 훈련결과 살피기"
   ]
  },
  {
   "cell_type": "code",
   "execution_count": 26,
   "metadata": {},
   "outputs": [],
   "source": [
    "# Define loss function, optimizer\n",
    "\n",
    "criterion = nn.CrossEntropyLoss() # 다중 분류 문제에서는 기본적으로 Cross Entropy Loss를 기본으로 사용한다. softmax계산까지 포함되어 있으므로 마지막 출력값에 별도의 softmax를 적용할 필요가 없다. \n",
    "alexnet_adam = AlexNet().to(device) # 추가로 adam과 madgrad train curve를 비교해 볼 예정이다. \n",
    "optimizer_adam = optim.Adam(alexnet_adam.parameters(), lr=1e-3)\n"
   ]
  },
  {
   "cell_type": "code",
   "execution_count": 27,
   "metadata": {},
   "outputs": [
    {
     "name": "stdout",
     "output_type": "stream",
     "text": [
      "[1] loss: 1.636972534298058\n",
      "[2] loss: 1.2302137810834615\n",
      "[3] loss: 1.0524647075895004\n",
      "[4] loss: 0.9240209530235786\n",
      "[5] loss: 0.8458459808974409\n",
      "[6] loss: 0.7848522069453431\n",
      "[7] loss: 0.7353844313536099\n",
      "[8] loss: 0.6938706545096059\n",
      "[9] loss: 0.6614358556991347\n",
      "[10] loss: 0.6235282725713532\n",
      "[11] loss: 0.5930832054511295\n",
      "[12] loss: 0.575439214267871\n",
      "[13] loss: 0.5528917813998953\n",
      "[14] loss: 0.5248611414482101\n",
      "[15] loss: 0.514602489297541\n",
      "[16] loss: 0.4885260992786553\n",
      "[17] loss: 0.46606154609721817\n",
      "[18] loss: 0.4580274752972222\n",
      "[19] loss: 0.43641521137443706\n",
      "[20] loss: 0.42266737475695704\n",
      "[21] loss: 0.4012693939700732\n",
      "[22] loss: 0.3897211461596701\n",
      "[23] loss: 0.378861639446085\n",
      "[24] loss: 0.3708399349963024\n",
      "[25] loss: 0.3524554305574639\n",
      "[26] loss: 0.3492522443849081\n",
      "[27] loss: 0.3336929438083944\n",
      "[28] loss: 0.33702667976979234\n",
      "[29] loss: 0.31115698745987846\n",
      "[30] loss: 0.3081530695900283\n",
      "[31] loss: 0.29868239068479224\n",
      "[32] loss: 0.307070955188417\n",
      "[33] loss: 0.2841317022585156\n",
      "[34] loss: 0.28652663440613396\n",
      "[35] loss: 0.2814014678414594\n",
      "[36] loss: 0.2663580539745951\n",
      "[37] loss: 0.2813184540802214\n",
      "[38] loss: 0.26780643647981145\n",
      "[39] loss: 0.24912480221985603\n",
      "[40] loss: 0.2600339260837153\n",
      "[41] loss: 0.24389273007725076\n",
      "[42] loss: 0.2519433481242777\n",
      "[43] loss: 0.25599772196042014\n",
      "[44] loss: 0.2415384948107647\n",
      "[45] loss: 0.264073533491039\n",
      "[46] loss: 0.26135155664752724\n",
      "[47] loss: 0.27951017955779284\n",
      "[48] loss: 0.23507919355867024\n",
      "[49] loss: 0.24217450934279322\n",
      "[50] loss: 0.24761826880064675\n"
     ]
    }
   ],
   "source": [
    "# Train AlexNet\n",
    "\n",
    "loss_ = [] # train curve를 그리기위한 loss 저장요 list\n",
    "n = len(trainloader) # 배치 개수\n",
    "for epoch in range(50):\n",
    "    running_loss = 0.0\n",
    "    for data in trainloader:\n",
    "        inputs, labels = data[0].to(device), data[1].to(device) # 배치데이터, gpu 연산을 위해 .to(device)로 데이터를 gpu로 보내준다. \n",
    "        optimizer_adam.zero_grad()\n",
    "        outputs = alexnet_adam(inputs)\n",
    "        loss = criterion(outputs, labels) # evaluate loss fucntion\n",
    "        loss.backward()\n",
    "        optimizer_adam.step()\n",
    "        running_loss += loss.item()\n",
    "\n",
    "    loss_.append(running_loss / n) # mean of each epoch \n",
    "    print(f'[{epoch+1}] loss: {running_loss / n}')\n"
   ]
  },
  {
   "cell_type": "code",
   "execution_count": 29,
   "metadata": {},
   "outputs": [
    {
     "data": {
      "image/png": "[encoded data removed]",
      "text/plain": [
       "<Figure size 640x480 with 1 Axes>"
      ]
     },
     "metadata": {},
     "output_type": "display_data"
    }
   ],
   "source": [
    "# 학습 손실 함수 그래프 그리기\n",
    "plt.plot(loss_)\n",
    "plt.title('Training loss')\n",
    "plt.xlabel(\"Epoch\")\n",
    "plt.show()"
   ]
  },
  {
   "cell_type": "code",
   "execution_count": 30,
   "metadata": {},
   "outputs": [],
   "source": [
    "# 모델 저장\n",
    "\n",
    "path_adam = './models/cifar10_alexnet_adam.pth'\n",
    "torch.save(alexnet_adam.state_dict(), path_adam)"
   ]
  },
  {
   "cell_type": "code",
   "execution_count": 31,
   "metadata": {},
   "outputs": [],
   "source": [
    "# 모델 불러오기\n",
    "\n",
    "# alexnet_adam = AlexNet().to(device) # 모델 저장은 모델을 통째로 저장하는 것이 아니라고 파라미터를 저장 하는 것이기 때문에 선언적으로 같은 구조의 모델이 선언되어 있어야 한다. \n",
    "# alexnet_adam.load_state_dict(torch.load(path_adam))"
   ]
  },
  {
   "cell_type": "markdown",
   "metadata": {},
   "source": [
    "#### 2) madgrad optimizer로 훈련결과 살펴보기"
   ]
  },
  {
   "cell_type": "code",
   "execution_count": 33,
   "metadata": {},
   "outputs": [],
   "source": [
    "import madgrad"
   ]
  },
  {
   "cell_type": "code",
   "execution_count": 41,
   "metadata": {},
   "outputs": [],
   "source": [
    "# Define loss function, optimizer\n",
    "\n",
    "criterion_mad = nn.CrossEntropyLoss() # 다중 분류 문제에서는 기본적으로 Cross Entropy Loss를 기본으로 사용한다. softmax계산까지 포함되어 있으므로 마지막 출력값에 별도의 softmax를 적용할 필요가 없다. \n",
    "alexnet_mad = AlexNet().to(device) # 추가로 adam과 madgrad train curve를 비교해 볼 예정이다. \n",
    "optimizer_mad = madgrad.MADGRAD(alexnet_mad.parameters(), lr = 1e-3)"
   ]
  },
  {
   "cell_type": "code",
   "execution_count": 42,
   "metadata": {},
   "outputs": [
    {
     "name": "stdout",
     "output_type": "stream",
     "text": [
      "[1] loss: 1.7979409960852322\n",
      "[2] loss: 1.3997829836374358\n",
      "[3] loss: 1.2064489800809517\n",
      "[4] loss: 1.1085761824404667\n",
      "[5] loss: 1.0538646224135402\n",
      "[6] loss: 1.021957310322989\n",
      "[7] loss: 1.0022775827694306\n",
      "[8] loss: 1.000449334457755\n",
      "[9] loss: 0.9789705817812311\n",
      "[10] loss: 0.9745905952467342\n",
      "[11] loss: 0.9803260336758155\n",
      "[12] loss: 0.9793550691883761\n",
      "[13] loss: 0.9844963969287397\n",
      "[14] loss: 1.0063548980427337\n",
      "[15] loss: 0.9868239264837535\n",
      "[16] loss: 0.99878162704289\n",
      "[17] loss: 0.991762627929125\n",
      "[18] loss: 1.025475088957404\n",
      "[19] loss: 0.991666710708512\n",
      "[20] loss: 1.012294818175884\n",
      "[21] loss: 1.016772724845359\n",
      "[22] loss: 1.0105369193425793\n",
      "[23] loss: 1.0286622623068662\n",
      "[24] loss: 1.0015869267232436\n",
      "[25] loss: 1.0207231861425377\n",
      "[26] loss: 1.0225517787921146\n",
      "[27] loss: 1.0512888340597646\n",
      "[28] loss: 1.0549117089728857\n",
      "[29] loss: 1.0560122878789444\n",
      "[30] loss: 1.0779005466785785\n",
      "[31] loss: 1.0476871654915643\n",
      "[32] loss: 1.072592841724669\n",
      "[33] loss: 1.026067954412425\n",
      "[34] loss: 1.0552966332138156\n",
      "[35] loss: 1.0778662924269262\n",
      "[36] loss: 1.0625262140312488\n",
      "[37] loss: 1.0571978459431435\n",
      "[38] loss: 1.0592672656303939\n",
      "[39] loss: 1.0634697577507926\n",
      "[40] loss: 1.0454147538350167\n",
      "[41] loss: 1.047310817836571\n",
      "[42] loss: 1.1121465114165177\n",
      "[43] loss: 1.0963800454170218\n",
      "[44] loss: 1.1037603508411733\n",
      "[45] loss: 1.057402025791444\n",
      "[46] loss: 1.123388164903747\n",
      "[47] loss: 1.1234301280037227\n",
      "[48] loss: 1.1009558740710115\n",
      "[49] loss: 1.0747478465887499\n",
      "[50] loss: 1.0480675863022233\n"
     ]
    }
   ],
   "source": [
    "# Train AlexNet\n",
    "\n",
    "loss_mad = [] # train curve를 그리기위한 loss 저장요 list\n",
    "n = len(trainloader) # 배치 개수\n",
    "for epoch in range(50):\n",
    "    running_loss = 0.0\n",
    "    for data in trainloader:\n",
    "        inputs, labels = data[0].to(device), data[1].to(device) # 배치데이터, gpu 연산을 위해 .to(device)로 데이터를 gpu로 보내준다. \n",
    "        optimizer_mad.zero_grad()\n",
    "        outputs = alexnet_mad(inputs)\n",
    "        loss = criterion_mad(outputs, labels) # evaluate loss fucntion\n",
    "        loss.backward()\n",
    "        optimizer_mad.step()\n",
    "        running_loss += loss.item()\n",
    "\n",
    "    loss_mad.append(running_loss / n) # mean of each epoch \n",
    "    print(f'[{epoch+1}] loss: {running_loss / n}')\n"
   ]
  },
  {
   "cell_type": "code",
   "execution_count": 43,
   "metadata": {},
   "outputs": [
    {
     "data": {
      "image/png": "[encoded data removed]",
      "text/plain": [
       "<Figure size 640x480 with 1 Axes>"
      ]
     },
     "metadata": {},
     "output_type": "display_data"
    }
   ],
   "source": [
    "# 학습 손실 함수 그래프 그리기\n",
    "plt.plot(loss_mad)\n",
    "plt.title('Training loss')\n",
    "plt.xlabel(\"Epoch\")\n",
    "plt.show()"
   ]
  },
  {
   "cell_type": "code",
   "execution_count": 44,
   "metadata": {},
   "outputs": [
    {
     "data": {
      "image/png": "[encoded data removed]",
      "text/plain": [
       "<Figure size 640x480 with 1 Axes>"
      ]
     },
     "metadata": {},
     "output_type": "display_data"
    }
   ],
   "source": [
    "plt.plot(loss_, 'r-')\n",
    "plt.plot(loss_mad, 'b-')\n",
    "plt.title('Training loss')\n",
    "plt.xlabel(\"Epoch\")\n",
    "plt.legend(['Adam', 'MADGRAD'])\n",
    "plt.show()"
   ]
  },
  {
   "cell_type": "code",
   "execution_count": null,
   "metadata": {},
   "outputs": [],
   "source": []
  },
  {
   "cell_type": "code",
   "execution_count": null,
   "metadata": {},
   "outputs": [],
   "source": []
  },
  {
   "cell_type": "code",
   "execution_count": null,
   "metadata": {},
   "outputs": [],
   "source": []
  },
  {
   "cell_type": "code",
   "execution_count": null,
   "metadata": {},
   "outputs": [],
   "source": []
  },
  {
   "cell_type": "code",
   "execution_count": null,
   "metadata": {},
   "outputs": [],
   "source": []
  },
  {
   "cell_type": "code",
   "execution_count": null,
   "metadata": {},
   "outputs": [],
   "source": []
  },
  {
   "cell_type": "code",
   "execution_count": null,
   "metadata": {},
   "outputs": [],
   "source": []
  },
  {
   "cell_type": "code",
   "execution_count": null,
   "metadata": {},
   "outputs": [],
   "source": []
  },
  {
   "cell_type": "code",
   "execution_count": null,
   "metadata": {},
   "outputs": [],
   "source": []
  },
  {
   "cell_type": "code",
   "execution_count": null,
   "metadata": {},
   "outputs": [],
   "source": []
  },
  {
   "cell_type": "code",
   "execution_count": null,
   "metadata": {},
   "outputs": [],
   "source": []
  },
  {
   "cell_type": "code",
   "execution_count": null,
   "metadata": {},
   "outputs": [],
   "source": []
  },
  {
   "cell_type": "code",
   "execution_count": null,
   "metadata": {},
   "outputs": [],
   "source": []
  }
 ],
 "metadata": {
  "kernelspec": {
   "display_name": "torch_for_p397",
   "language": "python",
   "name": "python3"
  },
  "language_info": {
   "codemirror_mode": {
    "name": "ipython",
    "version": 3
   },
   "file_extension": ".py",
   "mimetype": "text/x-python",
   "name": "python",
   "nbconvert_exporter": "python",
   "pygments_lexer": "ipython3",
   "version": "3.9.7"
  }
 },
 "nbformat": 4,
 "nbformat_minor": 2
}
