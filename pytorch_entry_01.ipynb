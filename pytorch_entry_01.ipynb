{
 "cells": [
  {
   "cell_type": "markdown",
   "metadata": {},
   "source": [
    "# 파이토치 입문\n",
    "\n",
    "## 1. 파이토치 기본\n",
    "\n",
    "### (1) tensor"
   ]
  },
  {
   "cell_type": "code",
   "execution_count": 2,
   "metadata": {},
   "outputs": [],
   "source": [
    "import torch\n",
    "import numpy as np"
   ]
  },
  {
   "cell_type": "code",
   "execution_count": 3,
   "metadata": {},
   "outputs": [
    {
     "data": {
      "text/plain": [
       "tensor([[ 1.2149e-20,  1.0049e+15,  4.0111e+15,  3.1116e-36],\n",
       "        [ 1.2150e-20,  1.0049e+15,  6.4178e+16,  3.1118e-36],\n",
       "        [ 1.0291e+18,  1.2156e-38,  1.6466e+19,  1.2157e-38],\n",
       "        [ 2.6346e+20,  1.2158e-38,  4.1972e-38, -1.1115e-35],\n",
       "        [-4.1100e-35, -1.6440e-34, -6.5762e-34, -2.6305e-33]])"
      ]
     },
     "execution_count": 3,
     "metadata": {},
     "output_type": "execute_result"
    }
   ],
   "source": [
    "x = torch.empty(5,4)\n",
    "x"
   ]
  },
  {
   "cell_type": "code",
   "execution_count": 4,
   "metadata": {},
   "outputs": [
    {
     "name": "stdout",
     "output_type": "stream",
     "text": [
      "tensor([[ 1.2149e-20,  1.0049e+15,  4.0111e+15,  3.1116e-36],\n",
      "        [ 1.2150e-20,  1.0049e+15,  6.4178e+16,  3.1118e-36],\n",
      "        [ 1.0291e+18,  1.2156e-38,  1.6466e+19,  1.2157e-38],\n",
      "        [ 2.6346e+20,  1.2158e-38,  4.1972e-38, -1.1115e-35],\n",
      "        [-4.1100e-35, -1.6440e-34, -6.5762e-34, -2.6305e-33]])\n"
     ]
    }
   ],
   "source": [
    "print(x)"
   ]
  },
  {
   "cell_type": "code",
   "execution_count": 5,
   "metadata": {},
   "outputs": [
    {
     "data": {
      "text/plain": [
       "tensor([[1., 1., 1.],\n",
       "        [1., 1., 1.],\n",
       "        [1., 1., 1.]])"
      ]
     },
     "execution_count": 5,
     "metadata": {},
     "output_type": "execute_result"
    }
   ],
   "source": [
    "torch.ones(3,3)"
   ]
  },
  {
   "cell_type": "code",
   "execution_count": 6,
   "metadata": {},
   "outputs": [
    {
     "data": {
      "text/plain": [
       "tensor([[[0.9396],\n",
       "         [0.1946],\n",
       "         [0.6531],\n",
       "         [0.8239],\n",
       "         [0.6911],\n",
       "         [0.3378]],\n",
       "\n",
       "        [[0.0788],\n",
       "         [0.4807],\n",
       "         [0.8258],\n",
       "         [0.3176],\n",
       "         [0.2580],\n",
       "         [0.2824]],\n",
       "\n",
       "        [[0.3246],\n",
       "         [0.2953],\n",
       "         [0.7935],\n",
       "         [0.5953],\n",
       "         [0.9436],\n",
       "         [0.8272]],\n",
       "\n",
       "        [[0.8267],\n",
       "         [0.0634],\n",
       "         [0.2370],\n",
       "         [0.4393],\n",
       "         [0.0475],\n",
       "         [0.3480]],\n",
       "\n",
       "        [[0.5104],\n",
       "         [0.4938],\n",
       "         [0.8093],\n",
       "         [0.7331],\n",
       "         [0.5551],\n",
       "         [0.6932]]])"
      ]
     },
     "execution_count": 6,
     "metadata": {},
     "output_type": "execute_result"
    }
   ],
   "source": [
    "i = torch.rand(5,6,1)\n",
    "i"
   ]
  },
  {
   "cell_type": "code",
   "execution_count": 7,
   "metadata": {},
   "outputs": [
    {
     "data": {
      "text/plain": [
       "5"
      ]
     },
     "execution_count": 7,
     "metadata": {},
     "output_type": "execute_result"
    }
   ],
   "source": [
    "x.size()[0]"
   ]
  },
  {
   "cell_type": "code",
   "execution_count": 8,
   "metadata": {},
   "outputs": [
    {
     "data": {
      "text/plain": [
       "1"
      ]
     },
     "execution_count": 8,
     "metadata": {},
     "output_type": "execute_result"
    }
   ],
   "source": [
    "i.size()[2]"
   ]
  },
  {
   "cell_type": "code",
   "execution_count": 9,
   "metadata": {},
   "outputs": [
    {
     "data": {
      "text/plain": [
       "tensor([[9.5095e-01, 4.8281e-02, 2.2258e-01, 7.3645e-01, 5.6684e-01, 4.3721e-02,\n",
       "         5.3444e-01, 8.2092e-01],\n",
       "        [8.5880e-02, 7.9902e-01, 9.4175e-01, 4.6052e-01, 8.9604e-01, 3.9824e-02,\n",
       "         6.8953e-01, 7.2526e-01],\n",
       "        [7.8922e-01, 7.4390e-01, 1.2282e-01, 4.6780e-01, 2.1024e-02, 2.3398e-02,\n",
       "         2.5980e-01, 9.4468e-01],\n",
       "        [1.3885e-01, 5.3965e-01, 8.3977e-01, 2.1243e-01, 1.1757e-01, 2.5937e-01,\n",
       "         8.3983e-01, 3.7014e-03],\n",
       "        [1.7657e-01, 9.5823e-02, 3.5512e-01, 6.5712e-03, 7.2463e-01, 1.9158e-01,\n",
       "         1.2440e-01, 2.2374e-01],\n",
       "        [4.1149e-01, 9.6466e-01, 9.7100e-01, 5.6098e-01, 3.4618e-01, 7.4283e-01,\n",
       "         9.2043e-02, 9.4249e-01],\n",
       "        [7.1858e-01, 4.8156e-01, 7.0059e-01, 1.5864e-01, 5.5735e-01, 8.2667e-02,\n",
       "         1.6747e-01, 1.3814e-01],\n",
       "        [8.3023e-01, 5.0552e-01, 6.6263e-01, 7.3823e-01, 7.6556e-04, 2.1058e-01,\n",
       "         7.2627e-01, 1.2754e-01]])"
      ]
     },
     "execution_count": 9,
     "metadata": {},
     "output_type": "execute_result"
    }
   ],
   "source": [
    "x = torch.rand(8,8)\n",
    "x"
   ]
  },
  {
   "cell_type": "code",
   "execution_count": 10,
   "metadata": {},
   "outputs": [
    {
     "data": {
      "text/plain": [
       "tensor([[[9.5095e-01, 4.8281e-02, 2.2258e-01, 7.3645e-01],\n",
       "         [5.6684e-01, 4.3721e-02, 5.3444e-01, 8.2092e-01],\n",
       "         [8.5880e-02, 7.9902e-01, 9.4175e-01, 4.6052e-01],\n",
       "         [8.9604e-01, 3.9824e-02, 6.8953e-01, 7.2526e-01]],\n",
       "\n",
       "        [[7.8922e-01, 7.4390e-01, 1.2282e-01, 4.6780e-01],\n",
       "         [2.1024e-02, 2.3398e-02, 2.5980e-01, 9.4468e-01],\n",
       "         [1.3885e-01, 5.3965e-01, 8.3977e-01, 2.1243e-01],\n",
       "         [1.1757e-01, 2.5937e-01, 8.3983e-01, 3.7014e-03]],\n",
       "\n",
       "        [[1.7657e-01, 9.5823e-02, 3.5512e-01, 6.5712e-03],\n",
       "         [7.2463e-01, 1.9158e-01, 1.2440e-01, 2.2374e-01],\n",
       "         [4.1149e-01, 9.6466e-01, 9.7100e-01, 5.6098e-01],\n",
       "         [3.4618e-01, 7.4283e-01, 9.2043e-02, 9.4249e-01]],\n",
       "\n",
       "        [[7.1858e-01, 4.8156e-01, 7.0059e-01, 1.5864e-01],\n",
       "         [5.5735e-01, 8.2667e-02, 1.6747e-01, 1.3814e-01],\n",
       "         [8.3023e-01, 5.0552e-01, 6.6263e-01, 7.3823e-01],\n",
       "         [7.6556e-04, 2.1058e-01, 7.2627e-01, 1.2754e-01]]])"
      ]
     },
     "execution_count": 10,
     "metadata": {},
     "output_type": "execute_result"
    }
   ],
   "source": [
    "a = x.view(-1, 4, 4)\n",
    "a"
   ]
  },
  {
   "cell_type": "code",
   "execution_count": 11,
   "metadata": {},
   "outputs": [
    {
     "data": {
      "text/plain": [
       "tensor([[[9.5095e-01, 4.8281e-02, 2.2258e-01, 7.3645e-01, 5.6684e-01,\n",
       "          4.3721e-02, 5.3444e-01, 8.2092e-01, 8.5880e-02, 7.9902e-01,\n",
       "          9.4175e-01, 4.6052e-01, 8.9604e-01, 3.9824e-02, 6.8953e-01,\n",
       "          7.2526e-01],\n",
       "         [7.8922e-01, 7.4390e-01, 1.2282e-01, 4.6780e-01, 2.1024e-02,\n",
       "          2.3398e-02, 2.5980e-01, 9.4468e-01, 1.3885e-01, 5.3965e-01,\n",
       "          8.3977e-01, 2.1243e-01, 1.1757e-01, 2.5937e-01, 8.3983e-01,\n",
       "          3.7014e-03]],\n",
       "\n",
       "        [[1.7657e-01, 9.5823e-02, 3.5512e-01, 6.5712e-03, 7.2463e-01,\n",
       "          1.9158e-01, 1.2440e-01, 2.2374e-01, 4.1149e-01, 9.6466e-01,\n",
       "          9.7100e-01, 5.6098e-01, 3.4618e-01, 7.4283e-01, 9.2043e-02,\n",
       "          9.4249e-01],\n",
       "         [7.1858e-01, 4.8156e-01, 7.0059e-01, 1.5864e-01, 5.5735e-01,\n",
       "          8.2667e-02, 1.6747e-01, 1.3814e-01, 8.3023e-01, 5.0552e-01,\n",
       "          6.6263e-01, 7.3823e-01, 7.6556e-04, 2.1058e-01, 7.2627e-01,\n",
       "          1.2754e-01]]])"
      ]
     },
     "execution_count": 11,
     "metadata": {},
     "output_type": "execute_result"
    }
   ],
   "source": [
    "b = x.view(2, 2, -1)\n",
    "b"
   ]
  },
  {
   "cell_type": "code",
   "execution_count": 12,
   "metadata": {},
   "outputs": [
    {
     "data": {
      "text/plain": [
       "torch.Size([16, 2, 2])"
      ]
     },
     "execution_count": 12,
     "metadata": {},
     "output_type": "execute_result"
    }
   ],
   "source": [
    "c = x.view(-1, 2, 2)\n",
    "c.size()"
   ]
  },
  {
   "cell_type": "code",
   "execution_count": 13,
   "metadata": {},
   "outputs": [
    {
     "data": {
      "text/plain": [
       "array([[9.5095319e-01, 4.8280954e-02, 2.2258222e-01, 7.3644888e-01,\n",
       "        5.6683934e-01, 4.3720722e-02, 5.3444290e-01, 8.2092339e-01],\n",
       "       [8.5880458e-02, 7.9901749e-01, 9.4175220e-01, 4.6052396e-01,\n",
       "        8.9604324e-01, 3.9823830e-02, 6.8953335e-01, 7.2525585e-01],\n",
       "       [7.8922474e-01, 7.4390167e-01, 1.2281537e-01, 4.6780258e-01,\n",
       "        2.1024048e-02, 2.3398280e-02, 2.5980300e-01, 9.4467974e-01],\n",
       "       [1.3885015e-01, 5.3965008e-01, 8.3976990e-01, 2.1243268e-01,\n",
       "        1.1757356e-01, 2.5937170e-01, 8.3982545e-01, 3.7013888e-03],\n",
       "       [1.7657316e-01, 9.5822692e-02, 3.5511708e-01, 6.5712333e-03,\n",
       "        7.2462839e-01, 1.9157857e-01, 1.2439823e-01, 2.2374195e-01],\n",
       "       [4.1149235e-01, 9.6466082e-01, 9.7100312e-01, 5.6097919e-01,\n",
       "        3.4618026e-01, 7.4282634e-01, 9.2043042e-02, 9.4249046e-01],\n",
       "       [7.1858048e-01, 4.8156452e-01, 7.0058632e-01, 1.5864211e-01,\n",
       "        5.5734950e-01, 8.2666516e-02, 1.6747212e-01, 1.3813663e-01],\n",
       "       [8.3023083e-01, 5.0551623e-01, 6.6263187e-01, 7.3823178e-01,\n",
       "        7.6556206e-04, 2.1057677e-01, 7.2626513e-01, 1.2754220e-01]],\n",
       "      dtype=float32)"
      ]
     },
     "execution_count": 13,
     "metadata": {},
     "output_type": "execute_result"
    }
   ],
   "source": [
    "y = x.numpy()\n",
    "y"
   ]
  },
  {
   "cell_type": "markdown",
   "metadata": {},
   "source": [
    "### (2) 역전파"
   ]
  },
  {
   "cell_type": "code",
   "execution_count": 14,
   "metadata": {},
   "outputs": [
    {
     "data": {
      "text/plain": [
       "tensor([[1., 1.],\n",
       "        [1., 1.]], requires_grad=True)"
      ]
     },
     "execution_count": 14,
     "metadata": {},
     "output_type": "execute_result"
    }
   ],
   "source": [
    "x = torch.ones(2, 2, requires_grad=True)\n",
    "x"
   ]
  },
  {
   "cell_type": "code",
   "execution_count": 15,
   "metadata": {},
   "outputs": [
    {
     "data": {
      "text/plain": [
       "tensor([[1., 1.],\n",
       "        [1., 1.]])"
      ]
     },
     "execution_count": 15,
     "metadata": {},
     "output_type": "execute_result"
    }
   ],
   "source": [
    "a = torch.ones(2, 2, requires_grad=False)\n",
    "a"
   ]
  },
  {
   "cell_type": "code",
   "execution_count": 16,
   "metadata": {},
   "outputs": [],
   "source": [
    "y = x + 1\n",
    "z = (2*y)**2\n",
    "r = z.mean()"
   ]
  },
  {
   "cell_type": "code",
   "execution_count": 17,
   "metadata": {},
   "outputs": [
    {
     "name": "stdout",
     "output_type": "stream",
     "text": [
      "result: tensor(16., grad_fn=<MeanBackward0>)\n"
     ]
    }
   ],
   "source": [
    "print(\"result:\", r)"
   ]
  },
  {
   "cell_type": "code",
   "execution_count": 18,
   "metadata": {},
   "outputs": [
    {
     "name": "stdout",
     "output_type": "stream",
     "text": [
      "tensor([[4., 4.],\n",
      "        [4., 4.]])\n"
     ]
    }
   ],
   "source": [
    "r.backward()\n",
    "print(x.grad)"
   ]
  },
  {
   "cell_type": "code",
   "execution_count": 19,
   "metadata": {},
   "outputs": [],
   "source": [
    "b = a + 1\n",
    "c = (2*b)**2\n",
    "d = c.mean()"
   ]
  },
  {
   "cell_type": "code",
   "execution_count": 20,
   "metadata": {},
   "outputs": [
    {
     "ename": "RuntimeError",
     "evalue": "element 0 of tensors does not require grad and does not have a grad_fn",
     "output_type": "error",
     "traceback": [
      "\u001b[0;31m---------------------------------------------------------------------------\u001b[0m",
      "\u001b[0;31mRuntimeError\u001b[0m                              Traceback (most recent call last)",
      "\u001b[1;32m/home/aeolian83/workspace/deep_learning_pytorch/pytorch_entry_01.ipynb Cell 21\u001b[0m line \u001b[0;36m1\n\u001b[0;32m----> <a href='vscode-notebook-cell://ssh-remote%2B92.99.185.10/home/aeolian83/workspace/deep_learning_pytorch/pytorch_entry_01.ipynb#X26sdnNjb2RlLXJlbW90ZQ%3D%3D?line=0'>1</a>\u001b[0m d\u001b[39m.\u001b[39;49mbackward()\n",
      "File \u001b[0;32m~/anaconda3/envs/torch_for_p397/lib/python3.9/site-packages/torch/_tensor.py:396\u001b[0m, in \u001b[0;36mTensor.backward\u001b[0;34m(self, gradient, retain_graph, create_graph, inputs)\u001b[0m\n\u001b[1;32m    387\u001b[0m \u001b[39mif\u001b[39;00m has_torch_function_unary(\u001b[39mself\u001b[39m):\n\u001b[1;32m    388\u001b[0m     \u001b[39mreturn\u001b[39;00m handle_torch_function(\n\u001b[1;32m    389\u001b[0m         Tensor\u001b[39m.\u001b[39mbackward,\n\u001b[1;32m    390\u001b[0m         (\u001b[39mself\u001b[39m,),\n\u001b[0;32m   (...)\u001b[0m\n\u001b[1;32m    394\u001b[0m         create_graph\u001b[39m=\u001b[39mcreate_graph,\n\u001b[1;32m    395\u001b[0m         inputs\u001b[39m=\u001b[39minputs)\n\u001b[0;32m--> 396\u001b[0m torch\u001b[39m.\u001b[39;49mautograd\u001b[39m.\u001b[39;49mbackward(\u001b[39mself\u001b[39;49m, gradient, retain_graph, create_graph, inputs\u001b[39m=\u001b[39;49minputs)\n",
      "File \u001b[0;32m~/anaconda3/envs/torch_for_p397/lib/python3.9/site-packages/torch/autograd/__init__.py:173\u001b[0m, in \u001b[0;36mbackward\u001b[0;34m(tensors, grad_tensors, retain_graph, create_graph, grad_variables, inputs)\u001b[0m\n\u001b[1;32m    168\u001b[0m     retain_graph \u001b[39m=\u001b[39m create_graph\n\u001b[1;32m    170\u001b[0m \u001b[39m# The reason we repeat same the comment below is that\u001b[39;00m\n\u001b[1;32m    171\u001b[0m \u001b[39m# some Python versions print out the first line of a multi-line function\u001b[39;00m\n\u001b[1;32m    172\u001b[0m \u001b[39m# calls in the traceback and some print out the last line\u001b[39;00m\n\u001b[0;32m--> 173\u001b[0m Variable\u001b[39m.\u001b[39;49m_execution_engine\u001b[39m.\u001b[39;49mrun_backward(  \u001b[39m# Calls into the C++ engine to run the backward pass\u001b[39;49;00m\n\u001b[1;32m    174\u001b[0m     tensors, grad_tensors_, retain_graph, create_graph, inputs,\n\u001b[1;32m    175\u001b[0m     allow_unreachable\u001b[39m=\u001b[39;49m\u001b[39mTrue\u001b[39;49;00m, accumulate_grad\u001b[39m=\u001b[39;49m\u001b[39mTrue\u001b[39;49;00m)\n",
      "\u001b[0;31mRuntimeError\u001b[0m: element 0 of tensors does not require grad and does not have a grad_fn"
     ]
    }
   ],
   "source": [
    "d.backward()"
   ]
  },
  {
   "cell_type": "code",
   "execution_count": 21,
   "metadata": {},
   "outputs": [],
   "source": [
    "from matplotlib import pyplot as plt"
   ]
  },
  {
   "cell_type": "code",
   "execution_count": 22,
   "metadata": {},
   "outputs": [
    {
     "data": {
      "text/plain": [
       "tensor([[0.],\n",
       "        [1.],\n",
       "        [2.],\n",
       "        [3.],\n",
       "        [4.]])"
      ]
     },
     "execution_count": 22,
     "metadata": {},
     "output_type": "execute_result"
    }
   ],
   "source": [
    "x = torch.FloatTensor(range(5)).unsqueeze(1)\n",
    "x\n",
    "\n",
    "# torch.FloatTensor(range(5))는 range(5)라는 리스트를 텐서로 만들어 준다. "
   ]
  },
  {
   "cell_type": "code",
   "execution_count": 23,
   "metadata": {},
   "outputs": [
    {
     "data": {
      "text/plain": [
       "tensor([[0.1927],\n",
       "        [2.8188],\n",
       "        [4.4272],\n",
       "        [6.9564],\n",
       "        [8.5243]])"
      ]
     },
     "execution_count": 23,
     "metadata": {},
     "output_type": "execute_result"
    }
   ],
   "source": [
    "y = 2*x + torch.rand(5, 1)\n",
    "y"
   ]
  },
  {
   "cell_type": "code",
   "execution_count": 24,
   "metadata": {},
   "outputs": [
    {
     "data": {
      "text/plain": [
       "1"
      ]
     },
     "execution_count": 24,
     "metadata": {},
     "output_type": "execute_result"
    }
   ],
   "source": [
    "num_feature = x.shape[1]\n",
    "num_feature"
   ]
  },
  {
   "cell_type": "code",
   "execution_count": 27,
   "metadata": {},
   "outputs": [
    {
     "name": "stdout",
     "output_type": "stream",
     "text": [
      "tensor([[-1.1859]], requires_grad=True)\n",
      "tensor([1.4929], requires_grad=True)\n"
     ]
    }
   ],
   "source": [
    "w = torch.randn(num_feature, 1, requires_grad=True)\n",
    "b = torch.randn(1, requires_grad=True)\n",
    "print(w)\n",
    "print(b)"
   ]
  },
  {
   "cell_type": "code",
   "execution_count": 29,
   "metadata": {},
   "outputs": [],
   "source": [
    "learning_rate = 1e-3\n",
    "optimizer = torch.optim.SGD([w, b], lr = learning_rate)"
   ]
  },
  {
   "cell_type": "code",
   "execution_count": 30,
   "metadata": {},
   "outputs": [
    {
     "name": "stdout",
     "output_type": "stream",
     "text": [
      "tensor(51.2360, grad_fn=<MeanBackward0>)\n",
      "Epoch 0: 51.236000061035156\n",
      "tensor(4.5748, grad_fn=<MeanBackward0>)\n",
      "Epoch 100: 4.574775695800781\n",
      "tensor(1.3146, grad_fn=<MeanBackward0>)\n",
      "Epoch 200: 1.314630389213562\n",
      "tensor(0.9885, grad_fn=<MeanBackward0>)\n",
      "Epoch 300: 0.9884635806083679\n",
      "tensor(0.8717, grad_fn=<MeanBackward0>)\n",
      "Epoch 400: 0.8717433214187622\n",
      "tensor(0.7798, grad_fn=<MeanBackward0>)\n",
      "Epoch 500: 0.7797838449478149\n",
      "tensor(0.6990, grad_fn=<MeanBackward0>)\n",
      "Epoch 600: 0.6989569664001465\n",
      "tensor(0.6273, grad_fn=<MeanBackward0>)\n",
      "Epoch 700: 0.6272801160812378\n",
      "tensor(0.5637, grad_fn=<MeanBackward0>)\n",
      "Epoch 800: 0.563674807548523\n",
      "tensor(0.5072, grad_fn=<MeanBackward0>)\n",
      "Epoch 900: 0.5072288513183594\n",
      "tensor(0.4571, grad_fn=<MeanBackward0>)\n",
      "Epoch 1000: 0.4571365714073181\n"
     ]
    }
   ],
   "source": [
    "loss_stack = []\n",
    "\n",
    "for epoch in range(1001):\n",
    "\n",
    "    optimizer.zero_grad() # 최적화는 계산을 누적시키기 때문에 매 에폭마다 누적된 값을 optimizer.zero_grad()로 초기화 한다. \n",
    "    y_hat = torch.matmul(x, w) + b\n",
    "    loss = torch.mean((y_hat - y)**2)\n",
    "    loss.backward() # 역전파를 기준으로 손실 함수로 정의한다. \n",
    "    optimizer.step() # 미리 정의한 optimizer를 이용하여 최적화를 수행\n",
    "    loss_stack.append(loss.item())\n",
    "    if epoch % 100 == 0:\n",
    "        print(loss)\n",
    "        print(f'Epoch {epoch}: {loss.item()}')"
   ]
  },
  {
   "cell_type": "code",
   "execution_count": 31,
   "metadata": {},
   "outputs": [],
   "source": [
    "with torch.no_grad():\n",
    "    y_hat=torch.matmul(x,w) + b"
   ]
  },
  {
   "cell_type": "code",
   "execution_count": 33,
   "metadata": {},
   "outputs": [
    {
     "data": {
      "image/png": "[encoded data removed]",
      "text/plain": [
       "<Figure size 1000x500 with 2 Axes>"
      ]
     },
     "metadata": {},
     "output_type": "display_data"
    }
   ],
   "source": [
    "plt.figure(figsize=(10,5))\n",
    "plt.subplot(121)\n",
    "plt.plot(loss_stack)\n",
    "plt.title('loss')\n",
    "plt.subplot(122)\n",
    "plt.plot(x, y, '.b')\n",
    "plt.plot(x, y_hat, 'r-')\n",
    "plt.legend(['ground truth', 'predition'])\n",
    "plt.title('Prediction')\n",
    "plt.show()"
   ]
  },
  {
   "cell_type": "code",
   "execution_count": null,
   "metadata": {},
   "outputs": [],
   "source": []
  },
  {
   "cell_type": "code",
   "execution_count": null,
   "metadata": {},
   "outputs": [],
   "source": []
  },
  {
   "cell_type": "code",
   "execution_count": null,
   "metadata": {},
   "outputs": [],
   "source": []
  },
  {
   "cell_type": "code",
   "execution_count": null,
   "metadata": {},
   "outputs": [],
   "source": []
  },
  {
   "cell_type": "code",
   "execution_count": null,
   "metadata": {},
   "outputs": [],
   "source": []
  },
  {
   "cell_type": "code",
   "execution_count": null,
   "metadata": {},
   "outputs": [],
   "source": []
  }
 ],
 "metadata": {
  "kernelspec": {
   "display_name": "torch_for_p397",
   "language": "python",
   "name": "python3"
  },
  "language_info": {
   "codemirror_mode": {
    "name": "ipython",
    "version": 3
   },
   "file_extension": ".py",
   "mimetype": "text/x-python",
   "name": "python",
   "nbconvert_exporter": "python",
   "pygments_lexer": "ipython3",
   "version": "3.9.7"
  }
 },
 "nbformat": 4,
 "nbformat_minor": 2
}
